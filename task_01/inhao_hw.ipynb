{
 "cells": [
  {
   "cell_type": "code",
   "execution_count": 1,
   "metadata": {},
   "outputs": [],
   "source": [
    "from sklearn.model_selection import train_test_split\n",
    "from sklearn.preprocessing import StandardScaler\n",
    "from sklearn.decomposition import PCA\n",
    "from sklearn.neighbors import KNeighborsClassifier\n",
    "from sklearn.svm import SVC\n",
    "from sklearn import metrics\n",
    "import matplotlib.pyplot as plt\n",
    "from sklearn.datasets import load_wine\n",
    "from sklearn.pipeline import make_pipeline\n",
    "from sklearn.model_selection import GridSearchCV"
   ]
  },
  {
   "cell_type": "code",
   "execution_count": 2,
   "metadata": {
    "pycharm": {
     "name": "#%%\n"
    }
   },
   "outputs": [],
   "source": [
    "X, y = load_wine(return_X_y=True)"
   ]
  },
  {
   "cell_type": "code",
   "execution_count": 3,
   "metadata": {},
   "outputs": [
    {
     "data": {
      "text/plain": [
       "(178, 13)"
      ]
     },
     "execution_count": 3,
     "metadata": {},
     "output_type": "execute_result"
    }
   ],
   "source": [
    "X.shape"
   ]
  },
  {
   "cell_type": "code",
   "execution_count": 4,
   "metadata": {},
   "outputs": [
    {
     "data": {
      "text/plain": [
       "(178,)"
      ]
     },
     "execution_count": 4,
     "metadata": {},
     "output_type": "execute_result"
    }
   ],
   "source": [
    "y.shape"
   ]
  },
  {
   "cell_type": "code",
   "execution_count": 5,
   "metadata": {},
   "outputs": [
    {
     "name": "stdout",
     "output_type": "stream",
     "text": [
      "3\n"
     ]
    },
    {
     "data": {
      "text/plain": [
       "array([0, 0, 0, 0, 0, 0, 0, 0, 0, 0, 0, 0, 0, 0, 0, 0, 0, 0, 0, 0, 0, 0,\n",
       "       0, 0, 0, 0, 0, 0, 0, 0, 0, 0, 0, 0, 0, 0, 0, 0, 0, 0, 0, 0, 0, 0,\n",
       "       0, 0, 0, 0, 0, 0, 0, 0, 0, 0, 0, 0, 0, 0, 0, 1, 1, 1, 1, 1, 1, 1,\n",
       "       1, 1, 1, 1, 1, 1, 1, 1, 1, 1, 1, 1, 1, 1, 1, 1, 1, 1, 1, 1, 1, 1,\n",
       "       1, 1, 1, 1, 1, 1, 1, 1, 1, 1, 1, 1, 1, 1, 1, 1, 1, 1, 1, 1, 1, 1,\n",
       "       1, 1, 1, 1, 1, 1, 1, 1, 1, 1, 1, 1, 1, 1, 1, 1, 1, 1, 1, 1, 2, 2,\n",
       "       2, 2, 2, 2, 2, 2, 2, 2, 2, 2, 2, 2, 2, 2, 2, 2, 2, 2, 2, 2, 2, 2,\n",
       "       2, 2, 2, 2, 2, 2, 2, 2, 2, 2, 2, 2, 2, 2, 2, 2, 2, 2, 2, 2, 2, 2,\n",
       "       2, 2])"
      ]
     },
     "execution_count": 5,
     "metadata": {},
     "output_type": "execute_result"
    }
   ],
   "source": [
    "print(len(set(y)))\n",
    "y"
   ]
  },
  {
   "cell_type": "code",
   "execution_count": 6,
   "metadata": {},
   "outputs": [
    {
     "name": "stdout",
     "output_type": "stream",
     "text": [
      "(124, 13) (124,)\n",
      "(54, 13) (124,)\n"
     ]
    }
   ],
   "source": [
    "RANDOM_STATE = 3\n",
    "X_train, X_test, y_train, y_test = train_test_split(X, y, test_size=0.3, random_state=RANDOM_STATE)\n",
    "print(X_train.shape, y_train.shape)\n",
    "print(X_test.shape, y_train.shape)"
   ]
  },
  {
   "cell_type": "code",
   "execution_count": 7,
   "metadata": {},
   "outputs": [
    {
     "name": "stdout",
     "output_type": "stream",
     "text": [
      "\n",
      "Prediction accuracy for the test dataset with k neighbors classifier без scaler and pca\n",
      "62.96%\n",
      "\n"
     ]
    }
   ],
   "source": [
    "model1 = KNeighborsClassifier(3)\n",
    "model1.fit(X_train, y_train)\n",
    "pred1 = model1.predict(X_test)\n",
    "print('\\nPrediction accuracy for the test dataset with k neighbors classifier без scaler and pca')\n",
    "print('{:.2%}\\n'.format(metrics.accuracy_score(y_test, pred1)))"
   ]
  },
  {
   "cell_type": "code",
   "execution_count": 8,
   "metadata": {},
   "outputs": [
    {
     "name": "stdout",
     "output_type": "stream",
     "text": [
      "\n",
      "Prediction accuracy for the test dataset with k neighbors classifier with scaler and pca\n",
      "94.44%\n",
      "\n"
     ]
    }
   ],
   "source": [
    "model2 = make_pipeline(StandardScaler(), PCA(n_components=3), KNeighborsClassifier(3))\n",
    "model2.fit(X_train, y_train)\n",
    "pred2 = model2.predict(X_test)\n",
    "print('\\nPrediction accuracy for the test dataset with k neighbors classifier with scaler and pca')\n",
    "print('{:.2%}\\n'.format(metrics.accuracy_score(y_test, pred2)))"
   ]
  },
  {
   "cell_type": "code",
   "execution_count": 9,
   "metadata": {},
   "outputs": [
    {
     "name": "stdout",
     "output_type": "stream",
     "text": [
      "\n",
      "Prediction accuracy for the test dataset with svc без scaler and pca\n",
      "35.19%\n",
      "\n"
     ]
    }
   ],
   "source": [
    "model3 = SVC(gamma=3, C=1)\n",
    "model3.fit(X_train, y_train)\n",
    "pred3 = model3.predict(X_test)\n",
    "print('\\nPrediction accuracy for the test dataset with svc без scaler and pca')\n",
    "print('{:.2%}\\n'.format(metrics.accuracy_score(y_test, pred3)))"
   ]
  },
  {
   "cell_type": "code",
   "execution_count": 10,
   "metadata": {},
   "outputs": [
    {
     "name": "stdout",
     "output_type": "stream",
     "text": [
      "\n",
      "Prediction accuracy for the test dataset with svc with scaler and pca\n",
      "81.48%\n",
      "\n"
     ]
    }
   ],
   "source": [
    "model4 = make_pipeline(StandardScaler(), PCA(n_components=3), SVC(gamma=3, C=1))\n",
    "model4.fit(X_train, y_train)\n",
    "pred4 = model4.predict(X_test)\n",
    "print('\\nPrediction accuracy for the test dataset with svc with scaler and pca')\n",
    "print('{:.2%}\\n'.format(metrics.accuracy_score(y_test, pred4)))"
   ]
  },
  {
   "cell_type": "code",
   "execution_count": 11,
   "metadata": {},
   "outputs": [
    {
     "name": "stdout",
     "output_type": "stream",
     "text": [
      "Fitting 5 folds for each of 126 candidates, totalling 630 fits\n",
      "C 0.1\n",
      "break_ties False\n",
      "cache_size 200\n",
      "class_weight None\n",
      "coef0 0.0\n",
      "decision_function_shape ovr\n",
      "degree 3\n",
      "gamma 10\n",
      "kernel linear\n",
      "max_iter -1\n",
      "probability False\n",
      "random_state None\n",
      "shrinking True\n",
      "tol 0.001\n",
      "verbose False\n",
      "\n",
      "Prediction accuracy for the test dataset with svc with grid search\n",
      "88.89%\n",
      "\n"
     ]
    }
   ],
   "source": [
    "model = SVC()\n",
    "param_grid = {'kernel': ['linear', 'poly', 'rbf'], 'C': [1e-3, 1e-2, 1e-1, 1, 10, 100, 1000], 'gamma': [10, 1, 0.1, 0.01, 0.001, 0.0001]} \n",
    "grid_search = GridSearchCV(model, param_grid, cv=5, n_jobs = 8, verbose=1, scoring=\"accuracy\")    \n",
    "grid_search.fit(X_train, y_train)    \n",
    "best_parameters = grid_search.best_estimator_.get_params()    \n",
    "for para, val in list(best_parameters.items()):    \n",
    "    print(para, val)    \n",
    "model = SVC(kernel=best_parameters['kernel'], C=best_parameters['C'], gamma=best_parameters['gamma'])    \n",
    "model.fit(X_train, y_train)\n",
    "pred = model.predict(X_test)\n",
    "print('\\nPrediction accuracy for the test dataset with svc with grid search')\n",
    "print('{:.2%}\\n'.format(metrics.accuracy_score(y_test, pred)))"
   ]
  },
  {
   "cell_type": "code",
   "execution_count": 12,
   "metadata": {},
   "outputs": [
    {
     "name": "stdout",
     "output_type": "stream",
     "text": [
      "Fitting 5 folds for each of 126 candidates, totalling 630 fits\n",
      "\n",
      "Prediction accuracy for the test dataset with svc with scaler, pca and grid search\n",
      "94.44%\n",
      "\n"
     ]
    }
   ],
   "source": [
    "param_grid = {'kernel': ['linear', 'poly', 'rbf'], 'C': [1e-3, 1e-2, 1e-1, 1, 10, 100, 1000], 'gamma': [10, 1, 0.1, 0.01, 0.001, 0.0001]} \n",
    "model = make_pipeline(StandardScaler(), PCA(n_components=3), GridSearchCV(SVC(), param_grid, cv=5, n_jobs = 8, verbose=1) )  \n",
    "model.fit(X_train, y_train)\n",
    "pred = model.predict(X_test)\n",
    "print('\\nPrediction accuracy for the test dataset with svc with scaler, pca and grid search')\n",
    "print('{:.2%}\\n'.format(metrics.accuracy_score(y_test, pred)))"
   ]
  },
  {
   "cell_type": "code",
   "execution_count": 13,
   "metadata": {},
   "outputs": [
    {
     "name": "stdout",
     "output_type": "stream",
     "text": [
      "Fitting 5 folds for each of 8 candidates, totalling 40 fits\n",
      "\n",
      "Prediction accuracy for the test dataset with k neighbors classifier with scaler, pca and grid search\n",
      "92.59%\n",
      "\n"
     ]
    }
   ],
   "source": [
    "param_grid = {'n_neighbors': [1, 2, 3, 4, 5, 6, 7, 8]} \n",
    "model = make_pipeline(StandardScaler(), PCA(n_components=3), GridSearchCV(KNeighborsClassifier(), param_grid, cv=5, n_jobs = 8, verbose=1) )  \n",
    "model.fit(X_train, y_train)\n",
    "pred = model.predict(X_test)\n",
    "print('\\nPrediction accuracy for the test dataset with k neighbors classifier with scaler, pca and grid search')\n",
    "print('{:.2%}\\n'.format(metrics.accuracy_score(y_test, pred)))"
   ]
  },
  {
   "cell_type": "code",
   "execution_count": null,
   "metadata": {},
   "outputs": [],
   "source": []
  }
 ],
 "metadata": {
  "kernelspec": {
   "display_name": "Python 3",
   "language": "python",
   "name": "python3"
  },
  "language_info": {
   "codemirror_mode": {
    "name": "ipython",
    "version": 3
   },
   "file_extension": ".py",
   "mimetype": "text/x-python",
   "name": "python",
   "nbconvert_exporter": "python",
   "pygments_lexer": "ipython3",
   "version": "3.7.0"
  }
 },
 "nbformat": 4,
 "nbformat_minor": 1
}